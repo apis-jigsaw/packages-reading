{
 "cells": [
  {
   "cell_type": "markdown",
   "metadata": {},
   "source": [
    "# Developing Packages"
   ]
  },
  {
   "cell_type": "markdown",
   "metadata": {},
   "source": [
    "### Introduction"
   ]
  },
  {
   "cell_type": "markdown",
   "metadata": {},
   "source": [
    "As our codebase gets larger, it's nice to place a little organization behind it.  For example, so far in our labs, we've place all of our files in a single `src/` folder.  In this lesson, we'll see how we can move our files into different folders, and explore the packages in the process."
   ]
  },
  {
   "cell_type": "markdown",
   "metadata": {},
   "source": [
    "### Bringing Structure"
   ]
  },
  {
   "cell_type": "markdown",
   "metadata": {},
   "source": [
    "To bring structure to our codebase, we'll move our test files to a `tests` folder.  This means that our codebase will take on the following structure:"
   ]
  },
  {
   "cell_type": "markdown",
   "metadata": {},
   "source": [
    "> We'll explain the `__init__.py` files below."
   ]
  },
  {
   "cell_type": "markdown",
   "metadata": {},
   "source": [
    "```python\n",
    "foursquare-app/\n",
    "├── migrations\n",
    "│   └── create_tables.sql\n",
    "├── src\n",
    "│   ├── __init__.py\n",
    "│   ├── category.py\n",
    "│   ├── db_utilities.py\n",
    "│   ├── orm.py\n",
    "│   └── venue.py\n",
    "└── tests\n",
    "    ├── __init__.py\n",
    "    ├── test_category.py\n",
    "    ├── test_orm.py\n",
    "    └── test_venue.py\n",
    "```"
   ]
  },
  {
   "cell_type": "markdown",
   "metadata": {},
   "source": [
    "Now we'll notice something different as we moved our files into different folder.  We also added an `__init__` file.  The most important purpose of the `__init__.py` file is that it allows us to import code from other folders.  And we'll need to do that here.\n",
    "\n",
    "> For example, in our `test_category.py` file, for example, we'll need to access the code in the `category.py` file.  \n",
    "\n",
    "But just adding the `__init__.py` file isn't enough.  We'll also need to specify which files in the `src` we wish to make accessible from an outside folder.  \n",
    "\n",
    "So our `src/__init__.py` file looks like the following:"
   ]
  },
  {
   "cell_type": "markdown",
   "metadata": {},
   "source": [
    "```python\n",
    "from .category import Category\n",
    "from .venue import Venue\n",
    "from .db_utilities import *\n",
    "from .orm import *\n",
    "```"
   ]
  },
  {
   "cell_type": "markdown",
   "metadata": {},
   "source": [
    "> the first line says from the current folder, `category` file, import the Category class."
   ]
  },
  {
   "cell_type": "markdown",
   "metadata": {},
   "source": [
    "Then in the `test_category.py` file we can have import all of the code we need to get our test running:\n",
    "\n",
    "```python\n",
    "from src import Category, drop_all_tables, save, test_cursor, test_conn\n",
    "```"
   ]
  },
  {
   "cell_type": "markdown",
   "metadata": {},
   "source": [
    "So we can think of our procedure as first importing all necessary code to our `src/__init__.py`, and then this will allow our `test_category.py` file to import these classes and functions from the `src` package."
   ]
  },
  {
   "cell_type": "markdown",
   "metadata": {},
   "source": [
    "### Other facts about init"
   ]
  },
  {
   "cell_type": "markdown",
   "metadata": {},
   "source": [
    "* Note that we also place an `__init__.py` file in our `tests` folder.  We can see from trial and error, that if we remove that file, our tests will not be able to find the `src/` package.\n",
    "* When we import a package like `src` the `__init__.py` file is the first file that is run.  So if we would like some initial steps to occur, like connecting to a database, we can place that in the `__init__.py` file.\n"
   ]
  },
  {
   "cell_type": "markdown",
   "metadata": {},
   "source": [
    "### Summary"
   ]
  },
  {
   "cell_type": "markdown",
   "metadata": {},
   "source": [
    "In this file we learned about Python packages.  A package is simply a folder with an `__init__.py` file inside of it.  This `__init__.py` file allows our code to be used from outside of the package.  For example, we were able to use the code in the `src/` package inside of our `tests` folder.\n",
    "\n",
    "Also, the general practice is to include an `__init__.py` file in every subfolder in the project.  The `__init__.py` file is pretty finicky, so some experimentation will likely be necessary.\n",
    "\n"
   ]
  }
 ],
 "metadata": {
  "kernelspec": {
   "display_name": "Python 3",
   "language": "python",
   "name": "python3"
  },
  "language_info": {
   "codemirror_mode": {
    "name": "ipython",
    "version": 3
   },
   "file_extension": ".py",
   "mimetype": "text/x-python",
   "name": "python",
   "nbconvert_exporter": "python",
   "pygments_lexer": "ipython3",
   "version": "3.8.3"
  }
 },
 "nbformat": 4,
 "nbformat_minor": 4
}
